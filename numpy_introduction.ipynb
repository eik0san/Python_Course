{
 "cells": [
  {
   "cell_type": "markdown",
   "metadata": {
    "collapsed": true
   },
   "source": [
    "# Introduction to Numpy and Matplotlib\n",
    "Numpy is a library for scientific computing in Pyhton. In this part of the course you will learn to:\n",
    " * create and display one- and multi-dimensional arrays\n",
    " * load real experimental data from files into arrays\n",
    " * use built-in Numpy functions to analyse the data\n",
    " * use the Matplotlib library to display the results\n",
    " * manipulate the arrays to change their shape and size\n",
    " \n",
    " So let's start! :)"
   ]
  },
  {
   "cell_type": "markdown",
   "metadata": {},
   "source": [
    "The main numpy object is called an array. An array is a collection of items of the same type. For the start, you can imagine the array as a table of numbers. The catch is: an array is a multidimensional object. We will soon learn what this means.\n",
    "To use numpy, we need to _import_ the module. This is done by writing the following at the top of our code:"
   ]
  },
  {
   "cell_type": "code",
   "execution_count": 2,
   "metadata": {
    "collapsed": true
   },
   "outputs": [],
   "source": [
    "import numpy as np"
   ]
  },
  {
   "cell_type": "markdown",
   "metadata": {
    "collapsed": true
   },
   "source": [
    "# Array creation\n",
    "There are many ways to create an array, depending on the purpose. One of the most common ones are np.zeros() which gives an array with zeros, and np.arange(N), which gives us a 1-D array with N elements, starting from 0 to N-1.  "
   ]
  },
  {
   "cell_type": "code",
   "execution_count": 26,
   "metadata": {},
   "outputs": [
    {
     "name": "stdout",
     "output_type": "stream",
     "text": [
      "[ 0  1  2  3  4  5  6  7  8  9 10 11 12 13 14 15 16 17 18 19]\n",
      "[ 0.  0.  0.  0.  0.  0.  0.  0.  0.  0.]\n"
     ]
    }
   ],
   "source": [
    "A = np.arange(20)\n",
    "print(A)\n",
    "\n",
    "Y= np.zeros(10)\n",
    "print(Y)"
   ]
  },
  {
   "cell_type": "markdown",
   "metadata": {},
   "source": [
    "If we need non-integers or a certain spacing between the elements, we use np.linspace() which linearly interpolates\n",
    "between the start and the end element. "
   ]
  },
  {
   "cell_type": "code",
   "execution_count": 5,
   "metadata": {},
   "outputs": [
    {
     "name": "stdout",
     "output_type": "stream",
     "text": [
      "[ 0.          0.44444444  0.88888889  1.33333333  1.77777778  2.22222222\n",
      "  2.66666667  3.11111111  3.55555556  4.        ]\n"
     ]
    }
   ],
   "source": [
    "start_element = 0\n",
    "end_element = 4\n",
    "tot_no_elements = 10\n",
    "\n",
    "B = np.linspace(start_element, end_element, tot_no_elements)\n",
    "print (B)"
   ]
  },
  {
   "cell_type": "markdown",
   "metadata": {},
   "source": [
    "Let's print individual elements or desired range of elements."
   ]
  },
  {
   "cell_type": "code",
   "execution_count": 6,
   "metadata": {},
   "outputs": [
    {
     "name": "stdout",
     "output_type": "stream",
     "text": [
      "0.444444444444\n",
      "[ 1.33333333  1.77777778]\n",
      "[ 0.          0.44444444  0.88888889  1.33333333  1.77777778  2.22222222\n",
      "  2.66666667  3.11111111  3.55555556]\n"
     ]
    }
   ],
   "source": [
    "print (B[1]) # notice that the indexing starts from zero!\n",
    "print (B[3:5])\n",
    "print(B[:-1]) # numpy can also count backwards, -1 is the last element!"
   ]
  },
  {
   "cell_type": "markdown",
   "metadata": {},
   "source": [
    "Let's create some multidimensional arrays and see how to work with them."
   ]
  },
  {
   "cell_type": "code",
   "execution_count": 11,
   "metadata": {},
   "outputs": [
    {
     "name": "stdout",
     "output_type": "stream",
     "text": [
      "[[ 0  1  2  3]\n",
      " [ 4  5  6  7]\n",
      " [ 8  9 10 11]\n",
      " [12 13 14 15]]\n"
     ]
    }
   ],
   "source": [
    "C = np.arange(16).reshape(4,4)\n",
    "print(C)"
   ]
  },
  {
   "cell_type": "code",
   "execution_count": 15,
   "metadata": {},
   "outputs": [
    {
     "name": "stdout",
     "output_type": "stream",
     "text": [
      "[[ 0  1  2  3  4]\n",
      " [ 5  6  7  8  9]\n",
      " [10 11 12 13 14]]\n"
     ]
    }
   ],
   "source": [
    "D =  np.arange(15).reshape(3,5)\n",
    "print(D)"
   ]
  },
  {
   "cell_type": "markdown",
   "metadata": {},
   "source": [
    "The dimensions of a numpy array are called axes. The number of dimensions (axes) is called a rank. To see the number of dimensions of the array, we use np.ndim(). To see the length of each dimension, we use np.shape()."
   ]
  },
  {
   "cell_type": "code",
   "execution_count": 17,
   "metadata": {},
   "outputs": [
    {
     "name": "stdout",
     "output_type": "stream",
     "text": [
      "Number of dimensions\n",
      "2\n",
      "2\n",
      "Shape of the arrays\n",
      "(4, 4)\n",
      "(3, 5)\n"
     ]
    }
   ],
   "source": [
    "print ('Number of dimensions')\n",
    "print(np.ndim(C))\n",
    "print(np.ndim(D))\n",
    "\n",
    "print ('Shape of the arrays')\n",
    "print(np.shape(C))\n",
    "print(np.shape(D))"
   ]
  },
  {
   "cell_type": "markdown",
   "metadata": {},
   "source": [
    "Numpy is a very powerful tool and indexing can be confusing for a beginner. If you get lost, remember to always print\n",
    "your result and check if it makes sense. Let's print some elements from our array D."
   ]
  },
  {
   "cell_type": "code",
   "execution_count": 21,
   "metadata": {},
   "outputs": [
    {
     "name": "stdout",
     "output_type": "stream",
     "text": [
      "7\n"
     ]
    }
   ],
   "source": [
    "print(D[1, 2]) # element in the row number 1 (start counting from zero!)"
   ]
  },
  {
   "cell_type": "markdown",
   "metadata": {},
   "source": [
    "# Loading array data from a file; saving to a file\n",
    "\n",
    "Data can be loaded into an array using the function np.loadtxt() and written using np.savetxt().\n"
   ]
  },
  {
   "cell_type": "code",
   "execution_count": 4,
   "metadata": {},
   "outputs": [
    {
     "name": "stdout",
     "output_type": "stream",
     "text": [
      "[-890.625  -86.875 -878.125 ..., -853.125 -846.875  -83.75 ]\n"
     ]
    }
   ],
   "source": [
    "neuro_data = np.loadtxt('sweep1_12.txt')\n",
    "print(neuro_data)\n",
    "\n",
    "np.savetxt('neuro_data_saved.txt', neuro_data)"
   ]
  },
  {
   "cell_type": "markdown",
   "metadata": {},
   "source": [
    "# Simple math with arrays\n",
    "\n",
    "Mathematical operations such as +, -, * and / are carried out _element-wise_ in numpy arrays. Let's see what this means.\n"
   ]
  },
  {
   "cell_type": "code",
   "execution_count": 9,
   "metadata": {},
   "outputs": [
    {
     "name": "stdout",
     "output_type": "stream",
     "text": [
      "before:\n",
      "[[ 0  1  2  3]\n",
      " [ 4  5  6  7]\n",
      " [ 8  9 10 11]\n",
      " [12 13 14 15]]\n",
      "\n",
      " adding 2 to the array:\n",
      "[[ 2  3  4  5]\n",
      " [ 6  7  8  9]\n",
      " [10 11 12 13]\n",
      " [14 15 16 17]]\n"
     ]
    }
   ],
   "source": [
    "E = np.arange(16).reshape((4,4)) # creating a 4x4 array with elements from 0 to 15\n",
    "\n",
    "print('before:')\n",
    "print(E)\n",
    "\n",
    "E = E + 2 # adding 2 to each element of the array\n",
    "print('\\n adding 2 to the array:')\n",
    "print(E)"
   ]
  },
  {
   "cell_type": "markdown",
   "metadata": {},
   "source": [
    "For comparison: with lists (not numpy objects) this does not work!"
   ]
  },
  {
   "cell_type": "code",
   "execution_count": 10,
   "metadata": {},
   "outputs": [
    {
     "ename": "TypeError",
     "evalue": "can only concatenate list (not \"int\") to list",
     "output_type": "error",
     "traceback": [
      "\u001b[0;31m---------------------------------------------------------------------------\u001b[0m",
      "\u001b[0;31mTypeError\u001b[0m                                 Traceback (most recent call last)",
      "\u001b[0;32m<ipython-input-10-5eb95682af27>\u001b[0m in \u001b[0;36m<module>\u001b[0;34m()\u001b[0m\n\u001b[1;32m      1\u001b[0m \u001b[0me\u001b[0m \u001b[0;34m=\u001b[0m \u001b[0;34m[\u001b[0m\u001b[0;36m1\u001b[0m\u001b[0;34m,\u001b[0m \u001b[0;36m2\u001b[0m\u001b[0;34m,\u001b[0m \u001b[0;36m3\u001b[0m\u001b[0;34m,\u001b[0m \u001b[0;36m4\u001b[0m\u001b[0;34m]\u001b[0m \u001b[0;31m# creating a list\u001b[0m\u001b[0;34m\u001b[0m\u001b[0m\n\u001b[0;32m----> 2\u001b[0;31m \u001b[0me\u001b[0m \u001b[0;34m+\u001b[0m \u001b[0;36m2\u001b[0m \u001b[0;31m# adding 2 to the list\u001b[0m\u001b[0;34m\u001b[0m\u001b[0m\n\u001b[0m",
      "\u001b[0;31mTypeError\u001b[0m: can only concatenate list (not \"int\") to list"
     ]
    }
   ],
   "source": [
    "e = [1, 2, 3, 4] # creating a list\n",
    "e + 2 # adding 2 to the list"
   ]
  },
  {
   "cell_type": "markdown",
   "metadata": {},
   "source": [
    "We can multiply matrices using the np.dot() function:"
   ]
  },
  {
   "cell_type": "code",
   "execution_count": 22,
   "metadata": {},
   "outputs": [
    {
     "name": "stdout",
     "output_type": "stream",
     "text": [
      "A:\n",
      "[[1 2 3]\n",
      " [0 1 0]\n",
      " [2 0 1]]\n",
      "\n",
      "B:\n",
      "[[3 0 4]\n",
      " [0 0 1]\n",
      " [2 2 2]]\n",
      "\n",
      "C:\n",
      "[[ 9  6 12]\n",
      " [ 0  0  1]\n",
      " [ 8  2 10]]\n"
     ]
    }
   ],
   "source": [
    "# create two numpy 3x3 arrays out of lists like this:\n",
    "A = np.asarray([[1, 2, 3], [0, 1, 0], [2, 0, 1]])\n",
    "B = np.asarray([[3, 0, 4], [0, 0, 1], [2, 2, 2]])\n",
    "\n",
    "# multiply the matrices and save the result to C\n",
    "C = np.dot(A,B)\n",
    "\n",
    "# check the output\n",
    "print('A:')\n",
    "print(A)\n",
    "print('\\nB:')\n",
    "print(B)\n",
    "print('\\nC:')\n",
    "print(C)"
   ]
  },
  {
   "cell_type": "markdown",
   "metadata": {},
   "source": [
    "Let's see what happens if we use * instead of np.dot():"
   ]
  },
  {
   "cell_type": "code",
   "execution_count": 21,
   "metadata": {},
   "outputs": [
    {
     "name": "stdout",
     "output_type": "stream",
     "text": [
      "A:\n",
      "[[1 2 3]\n",
      " [0 1 0]\n",
      " [2 0 1]]\n",
      "\n",
      "B:\n",
      "[[3 0 4]\n",
      " [0 0 1]\n",
      " [2 2 2]]\n",
      "\n",
      "C:\n",
      "[[ 3  0 12]\n",
      " [ 0  0  0]\n",
      " [ 4  0  2]]\n"
     ]
    }
   ],
   "source": [
    "# create two numpy 3x3 arrays out of lists like this:\n",
    "A = np.asarray([[1, 2, 3], [0, 1, 0], [2, 0, 1]])\n",
    "B = np.asarray([[3, 0, 4], [0, 0, 1], [2, 2, 2]])\n",
    "\n",
    "# multiply the matrices and save the result to C\n",
    "M = A*B\n",
    "\n",
    "# check the output\n",
    "print('A:')\n",
    "print(A)\n",
    "print('\\nB:')\n",
    "print(B)\n",
    "print('\\nC:')\n",
    "print(M)"
   ]
  },
  {
   "cell_type": "markdown",
   "metadata": {},
   "source": [
    "Using * performes multiplication _element-wise_, whereas np.dot( ) does matrix multiplication."
   ]
  },
  {
   "cell_type": "markdown",
   "metadata": {},
   "source": [
    "# Array filtering\n",
    "\n",
    "Regularly when working with real data, we need to filter it to get features we are looking for. This is nothing but applying logic functions on the array. A function of choice here is np.where( ):"
   ]
  },
  {
   "cell_type": "code",
   "execution_count": 23,
   "metadata": {},
   "outputs": [
    {
     "data": {
      "text/plain": [
       "(array([0, 0, 1, 1, 1, 2, 2]), array([0, 1, 0, 1, 2, 0, 1]))"
      ]
     },
     "execution_count": 23,
     "metadata": {},
     "output_type": "execute_result"
    }
   ],
   "source": [
    "# which indices belong to the elements of the array that satifsy Element < 10?\n",
    "np.where(C < 10)"
   ]
  },
  {
   "cell_type": "code",
   "execution_count": 24,
   "metadata": {},
   "outputs": [
    {
     "data": {
      "text/plain": [
       "array([9, 6, 0, 0, 1, 8, 2])"
      ]
     },
     "execution_count": 24,
     "metadata": {},
     "output_type": "execute_result"
    }
   ],
   "source": [
    "# which elements belong to these indices?\n",
    "C[np.where(C < 10)]"
   ]
  },
  {
   "cell_type": "code",
   "execution_count": 25,
   "metadata": {},
   "outputs": [
    {
     "name": "stdout",
     "output_type": "stream",
     "text": [
      "[[0 0 1]\n",
      " [0 0 0]\n",
      " [0 0 1]]\n"
     ]
    }
   ],
   "source": [
    "# filter the array C so that every element bigger than 10 get set to 1\n",
    "# and every element smaller than 10 gets set to 0\n",
    "D = np.where(C < 10, 0, 1)\n",
    "print(D)"
   ]
  },
  {
   "cell_type": "markdown",
   "metadata": {},
   "source": [
    "# Confusing but useful operations with arrays"
   ]
  },
  {
   "cell_type": "code",
   "execution_count": null,
   "metadata": {
    "collapsed": true
   },
   "outputs": [],
   "source": []
  }
 ],
 "metadata": {
  "kernelspec": {
   "display_name": "Python 3",
   "language": "python",
   "name": "python3"
  },
  "language_info": {
   "codemirror_mode": {
    "name": "ipython",
    "version": 3
   },
   "file_extension": ".py",
   "mimetype": "text/x-python",
   "name": "python",
   "nbconvert_exporter": "python",
   "pygments_lexer": "ipython3",
   "version": "3.6.3"
  }
 },
 "nbformat": 4,
 "nbformat_minor": 2
}
