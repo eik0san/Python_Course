{
 "cells": [
  {
   "cell_type": "markdown",
   "metadata": {},
   "source": [
    "# Image Analaysis: Real data (aka s--t just got real)"
   ]
  },
  {
   "cell_type": "markdown",
   "metadata": {},
   "source": [
    "Today you will analyze sample data on calcium measurements in Physaurm polycephalum. Physarum is a very simple, network-like organism that utilizes peristaltic contractions of its cortical actomyosin layer. The contractions of the actomyosin layer are presumably driven by calcium. \n",
    "\n",
    "In your SampleData folder, you will find a sequence of 10 fluorescence microscopy images, 5 belonging to the calcium channel (green) and 5 in the reference dye channel. The tasks are the following:"
   ]
  },
  {
   "cell_type": "markdown",
   "metadata": {},
   "source": [
    "# Exercise A: Signal isolation"
   ]
  },
  {
   "cell_type": "markdown",
   "metadata": {},
   "source": [
    "# A1. Load all the images in the memory.\n",
    "\n",
    "_Hint: Create a dictionary for each channel and load the images as arrays._\n",
    "\n",
    "Do not manually enter c1_01,c2_01,c1_02...!"
   ]
  },
  {
   "cell_type": "markdown",
   "metadata": {},
   "source": [
    "__From now on you don't have to work with the whole dictionary, just choose one image from each channel.__"
   ]
  },
  {
   "cell_type": "markdown",
   "metadata": {},
   "source": [
    "# A2. Convert a pair of frames (c1_01 and c2_02) to grayscale."
   ]
  },
  {
   "cell_type": "markdown",
   "metadata": {},
   "source": [
    "# A3. Downsample the data to make the image smaller.\n",
    "This is done to take up less memory and process the images faster.\n",
    "\n",
    "_Hint: Take every 2nd pixel of the grayscale image to create the new image._"
   ]
  },
  {
   "cell_type": "markdown",
   "metadata": {},
   "source": [
    "# A4. Find the contours of the organism using the reference dye (c2) channel.\n",
    "\n",
    "_Hint: Convert the newly downsamples grayscale image to a binary image using diffrent theresholds. Find a threshold that works best for showing a clear outline of the organism._\n",
    "\n",
    "Bonus: plot different thresholds as subplots."
   ]
  },
  {
   "cell_type": "markdown",
   "metadata": {},
   "source": [
    "# A5. Isolate the signal from background in the calcium (c1) channel.\n",
    "Using the reference dye channel, mask background pixels in the c1 channel.\n",
    "\n",
    "_Hints:_\n",
    "1. Use np.where to find indices of elements whose pixel value is 0 (background) on the binary image obtained from c2 channel.\n",
    "2. On the grayscale image from channel c1, mask all background pixels using the criterion found above.\n",
    "3. On the masked grayscale image from channel c1, fill all masked elements with value 0.\n",
    "4. Display the obtained c1 channel with background set to 0."
   ]
  },
  {
   "cell_type": "markdown",
   "metadata": {},
   "source": [
    "# Exercise B: Creating a mixed-channel image"
   ]
  },
  {
   "cell_type": "markdown",
   "metadata": {},
   "source": [
    "# B1. Overlay a pair of RGB images.\n",
    "\n",
    "Use a pair of RGB images from each channel, create an alpha channel and overlay the images to see both channels in the same image."
   ]
  },
  {
   "cell_type": "markdown",
   "metadata": {},
   "source": [
    "# Exercise C: Tracking the organism growth"
   ]
  },
  {
   "cell_type": "markdown",
   "metadata": {},
   "source": [
    "# C1. Plot the ratio of white vs. black pixels in the binary images of one channel.\n",
    "\n",
    "Focus on just one channel (I suggest c2 because the signal is better defined). Convert all the images in the dictionary of this channel first to grayscale, and then to binary using the threshold value you already found in A4. Use the same threshold for each image in your dictionary.\n",
    "\n",
    "Now looping through the arrays (images) in the dictionary, count the number of black and white pixels.\n",
    "Calculate their ratio and plot its evolution over time."
   ]
  },
  {
   "cell_type": "code",
   "execution_count": null,
   "metadata": {
    "collapsed": true
   },
   "outputs": [],
   "source": []
  }
 ],
 "metadata": {
  "kernelspec": {
   "display_name": "Python 3",
   "language": "python",
   "name": "python3"
  },
  "language_info": {
   "codemirror_mode": {
    "name": "ipython",
    "version": 3
   },
   "file_extension": ".py",
   "mimetype": "text/x-python",
   "name": "python",
   "nbconvert_exporter": "python",
   "pygments_lexer": "ipython3",
   "version": "3.6.3"
  }
 },
 "nbformat": 4,
 "nbformat_minor": 2
}
